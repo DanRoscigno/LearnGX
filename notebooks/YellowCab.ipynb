{
 "cells": [
  {
   "cell_type": "code",
   "execution_count": 1,
   "id": "2f75b483-313f-4fab-bd41-145ca20e1f55",
   "metadata": {},
   "outputs": [],
   "source": [
    "import pandas as pd"
   ]
  },
  {
   "cell_type": "code",
   "execution_count": 2,
   "id": "2a8f7424-b8d2-4f36-b285-18031d6a5115",
   "metadata": {},
   "outputs": [],
   "source": [
    "df = pd.read_csv(\n",
    "    '../taxi-data/yellow_tripdata_sample_2020-09.csv', \n",
    "    nrows=100, \n",
    "    parse_dates=['pickup_datetime', 'dropoff_datetime'], \n",
    ")"
   ]
  },
  {
   "cell_type": "code",
   "execution_count": 3,
   "id": "177dac97-0e00-46bd-a7b7-aa7348df4899",
   "metadata": {},
   "outputs": [
    {
     "name": "stdout",
     "output_type": "stream",
     "text": [
      "CREATE TABLE \"yellow_taxi_data\" (\n",
      "\"vendor_id\" REAL,\n",
      "  \"pickup_datetime\" TIMESTAMP,\n",
      "  \"dropoff_datetime\" TIMESTAMP,\n",
      "  \"passenger_count\" REAL,\n",
      "  \"trip_distance\" REAL,\n",
      "  \"rate_code_id\" REAL,\n",
      "  \"store_and_fwd_flag\" TEXT,\n",
      "  \"pickup_location_id\" INTEGER,\n",
      "  \"dropoff_location_id\" INTEGER,\n",
      "  \"payment_type\" REAL,\n",
      "  \"fare_amount\" REAL,\n",
      "  \"extra\" REAL,\n",
      "  \"mta_tax\" REAL,\n",
      "  \"tip_amount\" REAL,\n",
      "  \"tolls_amount\" REAL,\n",
      "  \"improvement_surcharge\" REAL,\n",
      "  \"total_amount\" REAL,\n",
      "  \"congestion_surcharge\" REAL\n",
      ")\n"
     ]
    }
   ],
   "source": [
    "print(pd.io.sql.get_schema(df, name='yellow_taxi_data'))"
   ]
  },
  {
   "cell_type": "code",
   "execution_count": 4,
   "id": "bbebfd90-ed2d-4bd6-807b-80d5be4111ab",
   "metadata": {},
   "outputs": [],
   "source": [
    "from sqlalchemy import create_engine"
   ]
  },
  {
   "cell_type": "code",
   "execution_count": 5,
   "id": "5d3c878d-9429-43eb-a271-790b1f18fa04",
   "metadata": {},
   "outputs": [],
   "source": [
    "engine = create_engine('postgresql://postgres:example@db:5432/taxi_db')"
   ]
  },
  {
   "cell_type": "code",
   "execution_count": 6,
   "id": "25df3e70-2b1c-4faf-b7b9-d49db7e8c76f",
   "metadata": {},
   "outputs": [
    {
     "name": "stdout",
     "output_type": "stream",
     "text": [
      "\n",
      "CREATE TABLE yellow_taxi_data (\n",
      "\tvendor_id FLOAT(53), \n",
      "\tpickup_datetime TIMESTAMP WITHOUT TIME ZONE, \n",
      "\tdropoff_datetime TIMESTAMP WITHOUT TIME ZONE, \n",
      "\tpassenger_count FLOAT(53), \n",
      "\ttrip_distance FLOAT(53), \n",
      "\trate_code_id FLOAT(53), \n",
      "\tstore_and_fwd_flag TEXT, \n",
      "\tpickup_location_id BIGINT, \n",
      "\tdropoff_location_id BIGINT, \n",
      "\tpayment_type FLOAT(53), \n",
      "\tfare_amount FLOAT(53), \n",
      "\textra FLOAT(53), \n",
      "\tmta_tax FLOAT(53), \n",
      "\ttip_amount FLOAT(53), \n",
      "\ttolls_amount FLOAT(53), \n",
      "\timprovement_surcharge FLOAT(53), \n",
      "\ttotal_amount FLOAT(53), \n",
      "\tcongestion_surcharge FLOAT(53)\n",
      ")\n",
      "\n",
      "\n"
     ]
    }
   ],
   "source": [
    "print(pd.io.sql.get_schema(df, name='yellow_taxi_data', con=engine)) "
   ]
  },
  {
   "cell_type": "code",
   "execution_count": 7,
   "id": "96d056a0-91c4-472c-bd4f-de7051416752",
   "metadata": {},
   "outputs": [
    {
     "data": {
      "text/plain": [
       "0"
      ]
     },
     "execution_count": 7,
     "metadata": {},
     "output_type": "execute_result"
    }
   ],
   "source": [
    "df.head(n=0).to_sql(name='yellow_taxi_data', con=engine, if_exists='replace')"
   ]
  },
  {
   "cell_type": "code",
   "execution_count": 9,
   "id": "48c76795-9424-49f7-8f9c-6a054fc5aaf1",
   "metadata": {},
   "outputs": [
    {
     "data": {
      "text/plain": [
       "10000"
      ]
     },
     "execution_count": 9,
     "metadata": {},
     "output_type": "execute_result"
    }
   ],
   "source": [
    "df = pd.read_csv( \n",
    "    '../taxi-data/yellow_tripdata_sample_2020-09.csv', \n",
    "    parse_dates=['pickup_datetime', 'dropoff_datetime'] \n",
    ")\n",
    "\n",
    "df.to_sql(name='yellow_taxi_data', con=engine, if_exists='append', chunksize=1000)"
   ]
  },
  {
   "cell_type": "code",
   "execution_count": 10,
   "id": "626c8ad9-facc-4d03-b03f-a360fcdfc5e9",
   "metadata": {},
   "outputs": [],
   "source": [
    "import great_expectations as gx\n",
    "\n",
    "from great_expectations.checkpoint import Checkpoint\n",
    "\n",
    "from sqlalchemy import create_engine\n",
    "\n",
    "from sqlalchemy_utils import database_exists, create_database\n",
    "\n",
    "context = gx.get_context()\n",
    "\n",
    "PG_CONNECTION_STRING = \"postgresql+psycopg2://postgres:example@db/taxi_db\"\n",
    "\n",
    "pg_datasource = context.sources.add_postgres(\n",
    "    name=\"pg_datasource\", connection_string=PG_CONNECTION_STRING\n",
    ")"
   ]
  },
  {
   "cell_type": "code",
   "execution_count": 11,
   "id": "4843e12a-9333-45a1-a3c3-cf9a25244ca6",
   "metadata": {},
   "outputs": [
    {
     "data": {
      "application/vnd.jupyter.widget-view+json": {
       "model_id": "e7bccee971ae45cc98df9011d171cd75",
       "version_major": 2,
       "version_minor": 0
      },
      "text/plain": [
       "Calculating Metrics:   0%|          | 0/1 [00:00<?, ?it/s]"
      ]
     },
     "metadata": {},
     "output_type": "display_data"
    },
    {
     "name": "stdout",
     "output_type": "stream",
     "text": [
      "   index  vendor_id     pickup_datetime    dropoff_datetime  passenger_count  \\\n",
      "0      0        2.0 2020-09-01 07:15:16 2020-09-01 07:22:47              1.0   \n",
      "1      1        1.0 2020-09-16 12:50:33 2020-09-16 12:58:19              1.0   \n",
      "2      2        1.0 2020-09-26 01:29:44 2020-09-26 01:44:32              1.0   \n",
      "3      3        1.0 2020-09-12 17:33:04 2020-09-12 17:37:07              1.0   \n",
      "4      4        2.0 2020-09-29 08:42:14 2020-09-29 08:54:59              1.0   \n",
      "\n",
      "   trip_distance  rate_code_id store_and_fwd_flag  pickup_location_id  \\\n",
      "0           1.52           1.0                  N                 142   \n",
      "1           0.90           1.0                  N                 244   \n",
      "2           4.60           1.0                  N                 100   \n",
      "3           0.80           1.0                  N                 140   \n",
      "4           1.49           1.0                  N                 238   \n",
      "\n",
      "   dropoff_location_id  payment_type  fare_amount  extra  mta_tax  tip_amount  \\\n",
      "0                  236           1.0          7.5    0.0      0.5        1.00   \n",
      "1                  116           1.0          7.0    0.0      0.5        1.00   \n",
      "2                  151           2.0         16.0    3.0      0.5        0.00   \n",
      "3                  229           1.0          5.0    2.5      0.5        1.65   \n",
      "4                  236           1.0         10.0    0.0      0.5        1.00   \n",
      "\n",
      "   tolls_amount  improvement_surcharge  total_amount  congestion_surcharge  \n",
      "0           0.0                    0.3         11.80                   2.5  \n",
      "1           0.0                    0.3          8.80                   0.0  \n",
      "2           0.0                    0.3         19.80                   2.5  \n",
      "3           0.0                    0.3          9.95                   2.5  \n",
      "4           0.0                    0.3         14.30                   2.5  \n"
     ]
    },
    {
     "data": {
      "application/vnd.jupyter.widget-view+json": {
       "model_id": "6fa2ecb4173d48f6ad229e0e3af2ddeb",
       "version_major": 2,
       "version_minor": 0
      },
      "text/plain": [
       "Calculating Metrics:   0%|          | 0/8 [00:00<?, ?it/s]"
      ]
     },
     "metadata": {},
     "output_type": "display_data"
    },
    {
     "data": {
      "application/vnd.jupyter.widget-view+json": {
       "model_id": "8cff48421ecf4c319edf3eab13517e0b",
       "version_major": 2,
       "version_minor": 0
      },
      "text/plain": [
       "Calculating Metrics:   0%|          | 0/11 [00:00<?, ?it/s]"
      ]
     },
     "metadata": {},
     "output_type": "display_data"
    },
    {
     "data": {
      "application/vnd.jupyter.widget-view+json": {
       "model_id": "5ca0801ee03e4e7e9d569adad0e6f145",
       "version_major": 2,
       "version_minor": 0
      },
      "text/plain": [
       "Calculating Metrics:   0%|          | 0/19 [00:00<?, ?it/s]"
      ]
     },
     "metadata": {},
     "output_type": "display_data"
    },
    {
     "name": "stdout",
     "output_type": "stream",
     "text": [
      "name: my_sql_checkpoint\n",
      "config_version: 1.0\n",
      "template_name:\n",
      "module_name: great_expectations.checkpoint\n",
      "class_name: Checkpoint\n",
      "run_name_template: '%Y%m%d-%H%M%S-my-run-name-template'\n",
      "expectation_suite_name: insert_your_expectation_suite_name_here\n",
      "batch_request:\n",
      "  datasource_name: pg_datasource\n",
      "  data_asset_name: yellow_taxi_data\n",
      "  options: {}\n",
      "  batch_slice:\n",
      "action_list:\n",
      "  - name: store_validation_result\n",
      "    action:\n",
      "      class_name: StoreValidationResultAction\n",
      "  - name: update_data_docs\n",
      "    action:\n",
      "      class_name: UpdateDataDocsAction\n",
      "evaluation_parameters: {}\n",
      "runtime_configuration: {}\n",
      "validations: []\n",
      "profilers: []\n",
      "ge_cloud_id:\n",
      "expectation_suite_ge_cloud_id:\n",
      "\n"
     ]
    }
   ],
   "source": [
    "pg_datasource.add_table_asset(\n",
    "    name=\"yellow_taxi_data\", table_name=\"yellow_taxi_data\"\n",
    ")\n",
    "\n",
    "batch_request = pg_datasource.get_asset(\"yellow_taxi_data\").build_batch_request()\n",
    "\n",
    "expectation_suite_name = \"insert_your_expectation_suite_name_here\"\n",
    "context.add_or_update_expectation_suite(expectation_suite_name=expectation_suite_name)\n",
    "validator = context.get_validator(\n",
    "    batch_request=batch_request,\n",
    "    expectation_suite_name=expectation_suite_name,\n",
    ")\n",
    "\n",
    "print(validator.head())\n",
    "\n",
    "validator.expect_column_values_to_not_be_null(column=\"passenger_count\")\n",
    "\n",
    "validator.expect_column_values_to_be_between(\n",
    "    column=\"congestion_surcharge\", min_value=0, max_value=1000\n",
    ")\n",
    "\n",
    "validator.save_expectation_suite(discard_failed_expectations=False)\n",
    "\n",
    "my_checkpoint_name = \"my_sql_checkpoint\"\n",
    "\n",
    "checkpoint = Checkpoint(\n",
    "    name=my_checkpoint_name,\n",
    "    run_name_template=\"%Y%m%d-%H%M%S-my-run-name-template\",\n",
    "    data_context=context,\n",
    "    batch_request=batch_request,\n",
    "    expectation_suite_name=expectation_suite_name,\n",
    "    action_list=[\n",
    "        {\n",
    "            \"name\": \"store_validation_result\",\n",
    "            \"action\": {\"class_name\": \"StoreValidationResultAction\"},\n",
    "        },\n",
    "        {\"name\": \"update_data_docs\", \"action\": {\"class_name\": \"UpdateDataDocsAction\"}},\n",
    "    ],\n",
    ")\n",
    "\n",
    "checkpoint_result = checkpoint.run()\n",
    "\n",
    "print(checkpoint.get_config().to_yaml_str())\n",
    "\n",
    "# This may need to be run in a Jupyter notebook\n",
    "context.open_data_docs()\n"
   ]
  },
  {
   "cell_type": "code",
   "execution_count": 12,
   "id": "80c1f710-319a-4116-8ca9-f5b7d9e49187",
   "metadata": {},
   "outputs": [],
   "source": [
    "context.open_data_docs()"
   ]
  },
  {
   "cell_type": "code",
   "execution_count": null,
   "id": "8c6184e4-a3a0-4f76-9d4f-d948f7df8066",
   "metadata": {},
   "outputs": [],
   "source": []
  }
 ],
 "metadata": {
  "kernelspec": {
   "display_name": "Python 3 (ipykernel)",
   "language": "python",
   "name": "python3"
  },
  "language_info": {
   "codemirror_mode": {
    "name": "ipython",
    "version": 3
   },
   "file_extension": ".py",
   "mimetype": "text/x-python",
   "name": "python",
   "nbconvert_exporter": "python",
   "pygments_lexer": "ipython3",
   "version": "3.11.9"
  }
 },
 "nbformat": 4,
 "nbformat_minor": 5
}
